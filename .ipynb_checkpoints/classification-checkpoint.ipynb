{
 "cells": [
  {
   "cell_type": "code",
   "execution_count": 1,
   "metadata": {
    "id": "a192xmwKijHs"
   },
   "outputs": [],
   "source": [
    "import os\n",
    "import sys\n",
    "import pickle\n",
    "import numpy as np\n",
    "import pandas as pd\n",
    "from PIL import Image, ImageFilter\n",
    "from tqdm import tqdm_notebook\n",
    "from sklearn.preprocessing import StandardScaler\n",
    "from sklearn.metrics import accuracy_score, mean_squared_error, log_loss, confusion_matrix\n",
    "import matplotlib.pyplot as plt\n",
    "\n",
    "np.random.seed(100)\n",
    "LEVEL = 'level_1'"
   ]
  },
  {
   "cell_type": "code",
   "execution_count": 2,
   "metadata": {
    "id": "fIuRdSezijHx"
   },
   "outputs": [],
   "source": [
    "class SigmoidNeuron:\n",
    "  \n",
    "  def __init__(self):\n",
    "    self.w = None\n",
    "    self.b = None\n",
    "    \n",
    "  def perceptron(self, x):\n",
    "    return np.dot(x, self.w.T) + self.b\n",
    "  \n",
    "  def sigmoid(self, x):\n",
    "    return 1.0/(1.0 + np.exp(-x))\n",
    "  \n",
    "  def grad_w_mse(self, x, y):\n",
    "    y_pred = self.sigmoid(self.perceptron(x))\n",
    "    return (y_pred - y) * y_pred * (1 - y_pred) * x\n",
    "  \n",
    "  def grad_b_mse(self, x, y):\n",
    "    y_pred = self.sigmoid(self.perceptron(x))\n",
    "    return (y_pred - y) * y_pred * (1 - y_pred)\n",
    "  \n",
    "  def grad_w_ce(self, x, y):\n",
    "    y_pred = self.sigmoid(self.perceptron(x))\n",
    "    if y == 0:\n",
    "      return y_pred * x\n",
    "    elif y == 1:\n",
    "      return -1 * (1 - y_pred) * x\n",
    "    else:\n",
    "      raise ValueError(\"y should be 0 or 1\")\n",
    "    \n",
    "  def grad_b_ce(self, x, y):\n",
    "    y_pred = self.sigmoid(self.perceptron(x))\n",
    "    if y == 0:\n",
    "      return y_pred \n",
    "    elif y == 1:\n",
    "      return -1 * (1 - y_pred)\n",
    "    else:\n",
    "      raise ValueError(\"y should be 0 or 1\")\n",
    "  \n",
    "  def fit(self, X, Y, epochs=1, learning_rate=1, initialise=True, loss_fn=\"mse\", display_loss=False):\n",
    "    \n",
    "    # initialise w, b\n",
    "    if initialise:\n",
    "      self.w = np.random.randn(1, X.shape[1])\n",
    "      self.b = 0\n",
    "      \n",
    "    if display_loss:\n",
    "      loss = {}\n",
    "    \n",
    "    for i in tqdm_notebook(range(epochs), total=epochs, unit=\"epoch\"):\n",
    "      dw = 0\n",
    "      db = 0\n",
    "      for x, y in zip(X, Y):\n",
    "        if loss_fn == \"mse\":\n",
    "          dw += self.grad_w_mse(x, y)\n",
    "          db += self.grad_b_mse(x, y) \n",
    "        elif loss_fn == \"ce\":\n",
    "          dw += self.grad_w_ce(x, y)\n",
    "          db += self.grad_b_ce(x, y)\n",
    "      self.w -= learning_rate * dw\n",
    "      self.b -= learning_rate * db\n",
    "      \n",
    "      if display_loss:\n",
    "        Y_pred = self.sigmoid(self.perceptron(X))\n",
    "        if loss_fn == \"mse\":\n",
    "          loss[i] = mean_squared_error(Y, Y_pred)\n",
    "        elif loss_fn == \"ce\":\n",
    "          loss[i] = log_loss(Y, Y_pred)\n",
    "    \n",
    "    if display_loss:\n",
    "      plt.plot(list(loss.values()))\n",
    "      plt.xlabel('Epochs')\n",
    "      if loss_fn == \"mse\":\n",
    "        plt.ylabel('Mean Squared Error')\n",
    "      elif loss_fn == \"ce\":\n",
    "        plt.ylabel('Log Loss')\n",
    "      plt.show()\n",
    "      \n",
    "  def predict(self, X):\n",
    "    Y_pred = []\n",
    "    for x in X:\n",
    "      y_pred = self.sigmoid(self.perceptron(x))\n",
    "      Y_pred.append(y_pred)\n",
    "    return np.array(Y_pred)"
   ]
  },
  {
   "cell_type": "code",
   "execution_count": 3,
   "metadata": {
    "id": "VDe2wjl_ijH0"
   },
   "outputs": [],
   "source": [
    "def read_all(folder_path, key_prefix=\"\"):\n",
    "    '''\n",
    "    It returns a dictionary with 'file names' as keys and 'flattened image arrays' as values.\n",
    "    '''\n",
    "    print(\"Reading:\")\n",
    "    images = {}\n",
    "    files = os.listdir(folder_path)\n",
    "    for i, file_name in tqdm_notebook(enumerate(files), total=len(files)):\n",
    "        file_path = os.path.join(folder_path, file_name)\n",
    "        image_index = key_prefix + file_name[:-4]\n",
    "        image = Image.open(file_path)\n",
    "        image = image.convert(\"L\")\n",
    "        images[image_index] = np.array(image.copy()).flatten()\n",
    "        image.close()\n",
    "    return images"
   ]
  },
  {
   "cell_type": "code",
   "execution_count": 4,
   "metadata": {
    "id": "mjuaN532ijH4",
    "outputId": "4124ae5e-4a9c-44dc-8c84-7919e6927fe5"
   },
   "outputs": [
    {
     "name": "stdout",
     "output_type": "stream",
     "text": [
      "Reading:\n"
     ]
    },
    {
     "ename": "FileNotFoundError",
     "evalue": "[Errno 2] No such file or directory: '../input/padhai-text-non-text-classification-level-1/level_1_train/level_1/background'",
     "output_type": "error",
     "traceback": [
      "\u001b[0;31m---------------------------------------------------------------------------\u001b[0m",
      "\u001b[0;31mFileNotFoundError\u001b[0m                         Traceback (most recent call last)",
      "\u001b[0;32m<ipython-input-4-91fa548c3211>\u001b[0m in \u001b[0;36m<module>\u001b[0;34m\u001b[0m\n\u001b[1;32m      2\u001b[0m \u001b[0mtrainPath\u001b[0m \u001b[0;34m=\u001b[0m \u001b[0;34m\"../input/padhai-text-non-text-classification-level-1/\"\u001b[0m\u001b[0;34m+\u001b[0m\u001b[0mLEVEL\u001b[0m\u001b[0;34m+\u001b[0m\u001b[0;34m\"_train/\"\u001b[0m\u001b[0;34m+\u001b[0m\u001b[0mLEVEL\u001b[0m\u001b[0;34m+\u001b[0m\u001b[0;34m\"/\"\u001b[0m\u001b[0;34m\u001b[0m\u001b[0;34m\u001b[0m\u001b[0m\n\u001b[1;32m      3\u001b[0m \u001b[0mtestPath\u001b[0m \u001b[0;34m=\u001b[0m \u001b[0;34m\"../input/padhai-text-non-text-classification-level-1/\"\u001b[0m\u001b[0;34m+\u001b[0m\u001b[0mLEVEL\u001b[0m\u001b[0;34m+\u001b[0m\u001b[0;34m\"_test/kaggle_\"\u001b[0m\u001b[0;34m+\u001b[0m\u001b[0mLEVEL\u001b[0m\u001b[0;34m\u001b[0m\u001b[0;34m\u001b[0m\u001b[0m\n\u001b[0;32m----> 4\u001b[0;31m \u001b[0mimages_train\u001b[0m \u001b[0;34m=\u001b[0m \u001b[0mread_all\u001b[0m\u001b[0;34m(\u001b[0m\u001b[0mtrainPath\u001b[0m\u001b[0;34m+\u001b[0m\u001b[0;34m\"background\"\u001b[0m\u001b[0;34m,\u001b[0m \u001b[0mkey_prefix\u001b[0m\u001b[0;34m=\u001b[0m\u001b[0;34m'bgr_'\u001b[0m\u001b[0;34m)\u001b[0m \u001b[0;31m# change the path\u001b[0m\u001b[0;34m\u001b[0m\u001b[0;34m\u001b[0m\u001b[0m\n\u001b[0m\u001b[1;32m      5\u001b[0m \u001b[0;32mfor\u001b[0m \u001b[0mlanguage\u001b[0m \u001b[0;32min\u001b[0m \u001b[0mlanguages\u001b[0m\u001b[0;34m:\u001b[0m\u001b[0;34m\u001b[0m\u001b[0;34m\u001b[0m\u001b[0m\n\u001b[1;32m      6\u001b[0m   \u001b[0mimages_train\u001b[0m\u001b[0;34m.\u001b[0m\u001b[0mupdate\u001b[0m\u001b[0;34m(\u001b[0m\u001b[0mread_all\u001b[0m\u001b[0;34m(\u001b[0m\u001b[0mtrainPath\u001b[0m\u001b[0;34m+\u001b[0m\u001b[0mlanguage\u001b[0m\u001b[0;34m,\u001b[0m \u001b[0mkey_prefix\u001b[0m\u001b[0;34m=\u001b[0m\u001b[0mlanguage\u001b[0m\u001b[0;34m+\u001b[0m\u001b[0;34m\"_\"\u001b[0m \u001b[0;34m)\u001b[0m\u001b[0;34m)\u001b[0m\u001b[0;34m\u001b[0m\u001b[0;34m\u001b[0m\u001b[0m\n",
      "\u001b[0;32m<ipython-input-3-7594fb431dc1>\u001b[0m in \u001b[0;36mread_all\u001b[0;34m(folder_path, key_prefix)\u001b[0m\n\u001b[1;32m      5\u001b[0m     \u001b[0mprint\u001b[0m\u001b[0;34m(\u001b[0m\u001b[0;34m\"Reading:\"\u001b[0m\u001b[0;34m)\u001b[0m\u001b[0;34m\u001b[0m\u001b[0;34m\u001b[0m\u001b[0m\n\u001b[1;32m      6\u001b[0m     \u001b[0mimages\u001b[0m \u001b[0;34m=\u001b[0m \u001b[0;34m{\u001b[0m\u001b[0;34m}\u001b[0m\u001b[0;34m\u001b[0m\u001b[0;34m\u001b[0m\u001b[0m\n\u001b[0;32m----> 7\u001b[0;31m     \u001b[0mfiles\u001b[0m \u001b[0;34m=\u001b[0m \u001b[0mos\u001b[0m\u001b[0;34m.\u001b[0m\u001b[0mlistdir\u001b[0m\u001b[0;34m(\u001b[0m\u001b[0mfolder_path\u001b[0m\u001b[0;34m)\u001b[0m\u001b[0;34m\u001b[0m\u001b[0;34m\u001b[0m\u001b[0m\n\u001b[0m\u001b[1;32m      8\u001b[0m     \u001b[0;32mfor\u001b[0m \u001b[0mi\u001b[0m\u001b[0;34m,\u001b[0m \u001b[0mfile_name\u001b[0m \u001b[0;32min\u001b[0m \u001b[0mtqdm_notebook\u001b[0m\u001b[0;34m(\u001b[0m\u001b[0menumerate\u001b[0m\u001b[0;34m(\u001b[0m\u001b[0mfiles\u001b[0m\u001b[0;34m)\u001b[0m\u001b[0;34m,\u001b[0m \u001b[0mtotal\u001b[0m\u001b[0;34m=\u001b[0m\u001b[0mlen\u001b[0m\u001b[0;34m(\u001b[0m\u001b[0mfiles\u001b[0m\u001b[0;34m)\u001b[0m\u001b[0;34m)\u001b[0m\u001b[0;34m:\u001b[0m\u001b[0;34m\u001b[0m\u001b[0;34m\u001b[0m\u001b[0m\n\u001b[1;32m      9\u001b[0m         \u001b[0mfile_path\u001b[0m \u001b[0;34m=\u001b[0m \u001b[0mos\u001b[0m\u001b[0;34m.\u001b[0m\u001b[0mpath\u001b[0m\u001b[0;34m.\u001b[0m\u001b[0mjoin\u001b[0m\u001b[0;34m(\u001b[0m\u001b[0mfolder_path\u001b[0m\u001b[0;34m,\u001b[0m \u001b[0mfile_name\u001b[0m\u001b[0;34m)\u001b[0m\u001b[0;34m\u001b[0m\u001b[0;34m\u001b[0m\u001b[0m\n",
      "\u001b[0;31mFileNotFoundError\u001b[0m: [Errno 2] No such file or directory: '../input/padhai-text-non-text-classification-level-1/level_1_train/level_1/background'"
     ]
    }
   ],
   "source": [
    "languages = ['ta', 'hi', 'en']\n",
    "trainPath = \"../input/padhai-text-non-text-classification-level-1/\"+LEVEL+\"_train/\"+LEVEL+\"/\"\n",
    "testPath = \"../input/padhai-text-non-text-classification-level-1/\"+LEVEL+\"_test/kaggle_\"+LEVEL\n",
    "images_train = read_all(trainPath+\"background\", key_prefix='bgr_') # change the path\n",
    "for language in languages:\n",
    "  images_train.update(read_all(trainPath+language, key_prefix=language+\"_\" ))\n",
    "print(len(images_train))\n",
    "\n",
    "images_test = read_all(testPath, key_prefix='') # change the path\n",
    "print(len(images_test))"
   ]
  },
  {
   "cell_type": "code",
   "execution_count": null,
   "metadata": {},
   "outputs": [],
   "source": [
    "! cd ../input"
   ]
  },
  {
   "cell_type": "code",
   "execution_count": null,
   "metadata": {
    "id": "xqcTJRmSijH-",
    "outputId": "3a26f608-868b-498d-b18d-bfae2b452d4e"
   },
   "outputs": [],
   "source": [
    "list(images_test.keys())[:5]"
   ]
  },
  {
   "cell_type": "code",
   "execution_count": null,
   "metadata": {
    "id": "yQUKxV_FijIC",
    "outputId": "e6f2538b-3285-49ea-d6fd-7fbadc2bb975"
   },
   "outputs": [],
   "source": [
    "X_train = []\n",
    "Y_train = []\n",
    "for key, value in images_train.items():\n",
    "    X_train.append(value)\n",
    "    if key[:4] == \"bgr_\":\n",
    "        Y_train.append(0)\n",
    "    else:\n",
    "        Y_train.append(1)\n",
    "\n",
    "ID_test = []\n",
    "X_test = []\n",
    "for key, value in images_test.items():\n",
    "  ID_test.append(int(key))\n",
    "  X_test.append(value)\n",
    "  \n",
    "        \n",
    "X_train = np.array(X_train)\n",
    "Y_train = np.array(Y_train)\n",
    "X_test = np.array(X_test)\n",
    "\n",
    "print(X_train.shape, Y_train.shape)\n",
    "print(X_test.shape)"
   ]
  },
  {
   "cell_type": "code",
   "execution_count": null,
   "metadata": {
    "id": "wy3IKx26ijIG",
    "outputId": "f571f85d-1fe6-4a33-bcf1-ca1574aa3709"
   },
   "outputs": [],
   "source": [
    "scaler = StandardScaler()\n",
    "X_scaled_train = scaler.fit_transform(X_train)\n",
    "X_scaled_test = scaler.transform(X_test)"
   ]
  },
  {
   "cell_type": "code",
   "execution_count": null,
   "metadata": {
    "id": "eboQW2n1ijIK",
    "outputId": "fa8fbf5d-5d5c-4463-aa3c-909d6698b9b0"
   },
   "outputs": [],
   "source": [
    "sn_mse = SigmoidNeuron()\n",
    "sn_mse.fit(X_scaled_train, Y_train, epochs=100, learning_rate=0.015, loss_fn=\"mse\", display_loss=True)"
   ]
  },
  {
   "cell_type": "code",
   "execution_count": 10,
   "metadata": {
    "id": "547SFsgsijIO",
    "outputId": "e6595d5e-a9e0-4b5f-f7b5-a56297bc69c0"
   },
   "outputs": [
    {
     "name": "stderr",
     "output_type": "stream",
     "text": [
      "/opt/conda/lib/python3.7/site-packages/ipykernel_launcher.py:49: TqdmDeprecationWarning: This function will be removed in tqdm==5.0.0\n",
      "Please use `tqdm.notebook.tqdm` instead of `tqdm.tqdm_notebook`\n"
     ]
    },
    {
     "data": {
      "application/vnd.jupyter.widget-view+json": {
       "model_id": "0371ea6e556449d28bf614357cb69713",
       "version_major": 2,
       "version_minor": 0
      },
      "text/plain": [
       "HBox(children=(FloatProgress(value=0.0), HTML(value='')))"
      ]
     },
     "metadata": {},
     "output_type": "display_data"
    },
    {
     "name": "stdout",
     "output_type": "stream",
     "text": [
      "\n"
     ]
    },
    {
     "data": {
      "image/png": "[encoded data removed]",
      "text/plain": [
       "<Figure size 432x288 with 1 Axes>"
      ]
     },
     "metadata": {
      "needs_background": "light"
     },
     "output_type": "display_data"
    }
   ],
   "source": [
    "sn_ce = SigmoidNeuron()\n",
    "sn_ce.fit(X_scaled_train, Y_train, epochs=100, learning_rate=0.015, loss_fn=\"ce\", display_loss=True)"
   ]
  },
  {
   "cell_type": "code",
   "execution_count": 11,
   "metadata": {
    "id": "_a3_-9zYijIS"
   },
   "outputs": [],
   "source": [
    "def print_accuracy(sn):\n",
    "  Y_pred_train = sn.predict(X_scaled_train)\n",
    "  Y_pred_binarised_train = (Y_pred_train >= 0.5).astype(\"int\").ravel()\n",
    "  accuracy_train = accuracy_score(Y_pred_binarised_train, Y_train)\n",
    "  print(\"Train Accuracy : \", accuracy_train)\n",
    "  print(\"-\"*50)"
   ]
  },
  {
   "cell_type": "code",
   "execution_count": 12,
   "metadata": {
    "id": "lqe2g9PLijIW",
    "outputId": "0ce4b45c-78f5-4323-829b-db3e12c3f268"
   },
   "outputs": [
    {
     "name": "stdout",
     "output_type": "stream",
     "text": [
      "Train Accuracy :  0.9641255605381166\n",
      "--------------------------------------------------\n",
      "Train Accuracy :  0.9988789237668162\n",
      "--------------------------------------------------\n"
     ]
    }
   ],
   "source": [
    "print_accuracy(sn_mse)\n",
    "print_accuracy(sn_ce)"
   ]
  },
  {
   "cell_type": "markdown",
   "metadata": {
    "id": "8IMv7SCUijIa"
   },
   "source": [
    "## Sample Submission"
   ]
  },
  {
   "cell_type": "code",
   "execution_count": 13,
   "metadata": {
    "id": "4_pBsgYlijIb"
   },
   "outputs": [],
   "source": [
    "Y_pred_test = sn_ce.predict(X_scaled_test)\n",
    "Y_pred_binarised_test = (Y_pred_test >= 0.5).astype(\"int\").ravel()\n",
    "\n",
    "submission = {}\n",
    "submission['ImageId'] = ID_test\n",
    "submission['Class'] = Y_pred_binarised_test\n",
    "\n",
    "submission = pd.DataFrame(submission)\n",
    "submission = submission[['ImageId', 'Class']]\n",
    "submission = submission.sort_values(['ImageId'])\n",
    "submission.to_csv(\"submisision.csv\", index=False)"
   ]
  },
  {
   "cell_type": "code",
   "execution_count": 15,
   "metadata": {},
   "outputs": [
    {
     "data": {
      "text/plain": [
       "array([[  0,   1],\n",
       "       [  1,   0],\n",
       "       [  2,   1],\n",
       "       [  3,   1],\n",
       "       [  4,   1],\n",
       "       [  5,   0],\n",
       "       [  6,   0],\n",
       "       [  7,   0],\n",
       "       [  8,   0],\n",
       "       [  9,   1],\n",
       "       [ 10,   1],\n",
       "       [ 11,   0],\n",
       "       [ 12,   1],\n",
       "       [ 13,   0],\n",
       "       [ 14,   1],\n",
       "       [ 15,   0],\n",
       "       [ 16,   1],\n",
       "       [ 17,   1],\n",
       "       [ 18,   0],\n",
       "       [ 20,   1],\n",
       "       [ 21,   1],\n",
       "       [ 22,   0],\n",
       "       [ 23,   1],\n",
       "       [ 24,   1],\n",
       "       [ 25,   1],\n",
       "       [ 26,   1],\n",
       "       [ 27,   0],\n",
       "       [ 28,   0],\n",
       "       [ 29,   1],\n",
       "       [ 30,   1],\n",
       "       [ 31,   1],\n",
       "       [ 32,   0],\n",
       "       [ 33,   1],\n",
       "       [ 34,   1],\n",
       "       [ 35,   0],\n",
       "       [ 36,   1],\n",
       "       [ 37,   0],\n",
       "       [ 38,   0],\n",
       "       [ 39,   1],\n",
       "       [ 40,   0],\n",
       "       [ 41,   1],\n",
       "       [ 42,   0],\n",
       "       [ 43,   0],\n",
       "       [ 44,   0],\n",
       "       [ 45,   1],\n",
       "       [ 46,   1],\n",
       "       [ 47,   0],\n",
       "       [ 48,   0],\n",
       "       [ 49,   1],\n",
       "       [ 50,   0],\n",
       "       [ 51,   1],\n",
       "       [ 52,   0],\n",
       "       [ 53,   0],\n",
       "       [ 54,   1],\n",
       "       [ 55,   0],\n",
       "       [ 56,   1],\n",
       "       [ 57,   0],\n",
       "       [ 58,   1],\n",
       "       [ 59,   0],\n",
       "       [ 60,   0],\n",
       "       [ 61,   1],\n",
       "       [ 62,   0],\n",
       "       [ 63,   0],\n",
       "       [ 64,   1],\n",
       "       [ 65,   1],\n",
       "       [ 66,   0],\n",
       "       [ 67,   1],\n",
       "       [ 68,   1],\n",
       "       [ 69,   0],\n",
       "       [ 70,   1],\n",
       "       [ 71,   0],\n",
       "       [ 72,   1],\n",
       "       [ 73,   1],\n",
       "       [ 74,   1],\n",
       "       [ 75,   1],\n",
       "       [ 76,   1],\n",
       "       [ 77,   1],\n",
       "       [ 78,   1],\n",
       "       [ 79,   0],\n",
       "       [ 80,   1],\n",
       "       [ 81,   0],\n",
       "       [ 82,   0],\n",
       "       [ 83,   0],\n",
       "       [ 84,   1],\n",
       "       [ 85,   1],\n",
       "       [ 86,   0],\n",
       "       [ 87,   1],\n",
       "       [ 88,   1],\n",
       "       [ 89,   0],\n",
       "       [ 90,   1],\n",
       "       [ 91,   0],\n",
       "       [ 92,   1],\n",
       "       [ 93,   1],\n",
       "       [ 94,   0],\n",
       "       [ 95,   0],\n",
       "       [ 96,   0],\n",
       "       [ 97,   0],\n",
       "       [ 98,   0],\n",
       "       [ 99,   0],\n",
       "       [100,   0],\n",
       "       [101,   0],\n",
       "       [102,   0],\n",
       "       [103,   1],\n",
       "       [104,   0],\n",
       "       [105,   0],\n",
       "       [106,   0],\n",
       "       [107,   0],\n",
       "       [108,   0],\n",
       "       [109,   1],\n",
       "       [110,   0],\n",
       "       [111,   0],\n",
       "       [112,   0],\n",
       "       [113,   0],\n",
       "       [114,   1],\n",
       "       [115,   1],\n",
       "       [116,   1],\n",
       "       [117,   0],\n",
       "       [118,   0],\n",
       "       [119,   1],\n",
       "       [120,   1],\n",
       "       [121,   1],\n",
       "       [122,   0],\n",
       "       [123,   1],\n",
       "       [124,   0],\n",
       "       [125,   1],\n",
       "       [126,   0],\n",
       "       [127,   0],\n",
       "       [128,   1],\n",
       "       [129,   1],\n",
       "       [130,   0],\n",
       "       [131,   0],\n",
       "       [132,   1],\n",
       "       [133,   0],\n",
       "       [134,   0],\n",
       "       [135,   0],\n",
       "       [136,   0],\n",
       "       [137,   0],\n",
       "       [138,   1],\n",
       "       [139,   1],\n",
       "       [140,   0],\n",
       "       [141,   0],\n",
       "       [142,   0],\n",
       "       [143,   1],\n",
       "       [144,   1],\n",
       "       [145,   1],\n",
       "       [146,   0],\n",
       "       [147,   0],\n",
       "       [148,   0],\n",
       "       [149,   1],\n",
       "       [150,   0],\n",
       "       [151,   1],\n",
       "       [152,   0],\n",
       "       [153,   0],\n",
       "       [154,   1],\n",
       "       [155,   0],\n",
       "       [156,   0],\n",
       "       [157,   0],\n",
       "       [158,   0],\n",
       "       [159,   1],\n",
       "       [160,   0],\n",
       "       [161,   1],\n",
       "       [162,   0],\n",
       "       [163,   0],\n",
       "       [164,   0],\n",
       "       [165,   0],\n",
       "       [166,   1],\n",
       "       [167,   1],\n",
       "       [168,   0],\n",
       "       [169,   0],\n",
       "       [170,   1],\n",
       "       [171,   1],\n",
       "       [172,   1],\n",
       "       [173,   0],\n",
       "       [174,   0],\n",
       "       [175,   0],\n",
       "       [176,   1],\n",
       "       [177,   0],\n",
       "       [178,   0],\n",
       "       [179,   0],\n",
       "       [180,   1],\n",
       "       [181,   0],\n",
       "       [182,   0],\n",
       "       [183,   1],\n",
       "       [184,   1],\n",
       "       [185,   1],\n",
       "       [186,   1],\n",
       "       [187,   0],\n",
       "       [188,   1],\n",
       "       [189,   0],\n",
       "       [190,   0],\n",
       "       [191,   0],\n",
       "       [192,   1],\n",
       "       [193,   0],\n",
       "       [194,   0],\n",
       "       [195,   1],\n",
       "       [196,   1],\n",
       "       [197,   0],\n",
       "       [198,   0],\n",
       "       [199,   1],\n",
       "       [200,   0],\n",
       "       [201,   1],\n",
       "       [202,   0],\n",
       "       [203,   1],\n",
       "       [204,   1],\n",
       "       [205,   1],\n",
       "       [206,   0],\n",
       "       [207,   1],\n",
       "       [208,   1],\n",
       "       [209,   1],\n",
       "       [210,   0],\n",
       "       [211,   1],\n",
       "       [212,   1],\n",
       "       [213,   1],\n",
       "       [214,   1],\n",
       "       [215,   0],\n",
       "       [216,   1],\n",
       "       [217,   0],\n",
       "       [218,   0],\n",
       "       [219,   0],\n",
       "       [220,   0],\n",
       "       [221,   0],\n",
       "       [222,   0],\n",
       "       [223,   1],\n",
       "       [224,   0],\n",
       "       [225,   1],\n",
       "       [226,   0],\n",
       "       [227,   0],\n",
       "       [228,   0],\n",
       "       [229,   0],\n",
       "       [230,   0],\n",
       "       [231,   1],\n",
       "       [232,   1],\n",
       "       [233,   1],\n",
       "       [234,   1],\n",
       "       [235,   1],\n",
       "       [236,   1],\n",
       "       [237,   0],\n",
       "       [238,   1],\n",
       "       [239,   1],\n",
       "       [240,   1],\n",
       "       [241,   0],\n",
       "       [243,   1],\n",
       "       [244,   1],\n",
       "       [245,   1],\n",
       "       [246,   1],\n",
       "       [247,   0],\n",
       "       [248,   0],\n",
       "       [249,   1],\n",
       "       [250,   1],\n",
       "       [251,   1],\n",
       "       [252,   1],\n",
       "       [253,   1],\n",
       "       [254,   1],\n",
       "       [255,   0],\n",
       "       [256,   1],\n",
       "       [257,   0],\n",
       "       [258,   0],\n",
       "       [259,   0],\n",
       "       [260,   0],\n",
       "       [261,   0],\n",
       "       [262,   1],\n",
       "       [263,   1],\n",
       "       [264,   1],\n",
       "       [265,   1],\n",
       "       [266,   1],\n",
       "       [267,   1],\n",
       "       [268,   0],\n",
       "       [269,   0],\n",
       "       [270,   0],\n",
       "       [271,   1],\n",
       "       [272,   1],\n",
       "       [273,   1],\n",
       "       [274,   1],\n",
       "       [275,   0],\n",
       "       [276,   0],\n",
       "       [277,   0],\n",
       "       [278,   0],\n",
       "       [279,   0],\n",
       "       [280,   1],\n",
       "       [281,   1],\n",
       "       [282,   0],\n",
       "       [283,   1],\n",
       "       [284,   0],\n",
       "       [285,   0],\n",
       "       [287,   0],\n",
       "       [288,   1],\n",
       "       [289,   0],\n",
       "       [290,   0],\n",
       "       [291,   1],\n",
       "       [292,   1],\n",
       "       [293,   0],\n",
       "       [294,   1],\n",
       "       [295,   0],\n",
       "       [296,   0],\n",
       "       [297,   0],\n",
       "       [298,   1],\n",
       "       [299,   0]])"
      ]
     },
     "execution_count": 15,
     "metadata": {},
     "output_type": "execute_result"
    }
   ],
   "source": [
    "submission.values"
   ]
  }
 ],
 "metadata": {
  "kernelspec": {
   "display_name": "Python 3",
   "language": "python",
   "name": "python3"
  },
  "language_info": {
   "codemirror_mode": {
    "name": "ipython",
    "version": 3
   },
   "file_extension": ".py",
   "mimetype": "text/x-python",
   "name": "python",
   "nbconvert_exporter": "python",
   "pygments_lexer": "ipython3",
   "version": "3.7.6"
  }
 },
 "nbformat": 4,
 "nbformat_minor": 4
}
